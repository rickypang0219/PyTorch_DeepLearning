{
 "cells": [
  {
   "cell_type": "code",
   "execution_count": 1,
   "metadata": {
    "_cell_guid": "b1076dfc-b9ad-4769-8c92-a6c4dae69d19",
    "_uuid": "8f2839f25d086af736a60e9eeb907d3b93b6e0e5"
   },
   "outputs": [],
   "source": [
    "import numpy as np # linear algebra\n",
    "import pandas as pd # data processing, CSV file I/O (e.g. pd.read_csv)"
   ]
  },
  {
   "cell_type": "code",
   "execution_count": 2,
   "metadata": {},
   "outputs": [
    {
     "ename": "ModuleNotFoundError",
     "evalue": "No module named 'mlx.optim'",
     "output_type": "error",
     "traceback": [
      "\u001b[0;31m---------------------------------------------------------------------------\u001b[0m",
      "\u001b[0;31mModuleNotFoundError\u001b[0m                       Traceback (most recent call last)",
      "Cell \u001b[0;32mIn[2], line 4\u001b[0m\n\u001b[1;32m      2\u001b[0m \u001b[38;5;28;01mimport\u001b[39;00m \u001b[38;5;21;01mmlx\u001b[39;00m \n\u001b[1;32m      3\u001b[0m \u001b[38;5;28;01mimport\u001b[39;00m \u001b[38;5;21;01mmlx\u001b[39;00m\u001b[38;5;21;01m.\u001b[39;00m\u001b[38;5;21;01mnn\u001b[39;00m \u001b[38;5;28;01mas\u001b[39;00m \u001b[38;5;21;01mnn\u001b[39;00m \n\u001b[0;32m----> 4\u001b[0m \u001b[38;5;28;01mimport\u001b[39;00m \u001b[38;5;21;01mmlx\u001b[39;00m\u001b[38;5;21;01m.\u001b[39;00m\u001b[38;5;21;01moptim\u001b[39;00m \u001b[38;5;28;01mas\u001b[39;00m \u001b[38;5;21;01moptim\u001b[39;00m\n\u001b[1;32m      6\u001b[0m \u001b[38;5;66;03m# import torch \u001b[39;00m\n\u001b[1;32m      7\u001b[0m \u001b[38;5;66;03m# import torch.nn as nn \u001b[39;00m\n\u001b[1;32m      8\u001b[0m \u001b[38;5;66;03m# import torch.optim as optim \u001b[39;00m\n\u001b[1;32m      9\u001b[0m \u001b[38;5;28;01mfrom\u001b[39;00m \u001b[38;5;21;01mtorch\u001b[39;00m\u001b[38;5;21;01m.\u001b[39;00m\u001b[38;5;21;01mutils\u001b[39;00m\u001b[38;5;21;01m.\u001b[39;00m\u001b[38;5;21;01mdata\u001b[39;00m \u001b[38;5;28;01mimport\u001b[39;00m TensorDataset, DataLoader, Dataset\n",
      "\u001b[0;31mModuleNotFoundError\u001b[0m: No module named 'mlx.optim'"
     ]
    }
   ],
   "source": [
    "# import libraries \n",
    "import mlx \n",
    "import mlx.nn as nn \n",
    "import mlx.optim as optim\n",
    "\n",
    "# import torch \n",
    "# import torch.nn as nn \n",
    "# import torch.optim as optim \n",
    "from torch.utils.data import TensorDataset, DataLoader, Dataset\n",
    "from torch.autograd import Variable\n",
    "import seaborn as sns\n",
    "from sklearn.model_selection import train_test_split\n",
    "import matplotlib.pyplot as plt "
   ]
  },
  {
   "cell_type": "code",
   "execution_count": 50,
   "metadata": {
    "execution": {
     "iopub.execute_input": "2023-12-06T02:42:47.009708Z",
     "iopub.status.busy": "2023-12-06T02:42:47.008221Z",
     "iopub.status.idle": "2023-12-06T02:42:47.015832Z",
     "shell.execute_reply": "2023-12-06T02:42:47.014285Z",
     "shell.execute_reply.started": "2023-12-06T02:42:47.009654Z"
    }
   },
   "outputs": [],
   "source": [
    "# HyperParams \n",
    "input_dim = 28 * 28 \n",
    "output_dim = 10 \n",
    "batch_size = 100 \n",
    "num_epochs = 30\n",
    "learning_rate = 1E-2"
   ]
  },
  {
   "cell_type": "code",
   "execution_count": 51,
   "metadata": {
    "execution": {
     "iopub.execute_input": "2023-12-06T02:42:47.319517Z",
     "iopub.status.busy": "2023-12-06T02:42:47.318993Z",
     "iopub.status.idle": "2023-12-06T02:42:50.695202Z",
     "shell.execute_reply": "2023-12-06T02:42:50.693990Z",
     "shell.execute_reply.started": "2023-12-06T02:42:47.319477Z"
    }
   },
   "outputs": [],
   "source": [
    "# load the data using pandas\n",
    "train_df = pd.read_csv(\"/kaggle/input/digit-recognizer/train.csv\")"
   ]
  },
  {
   "cell_type": "code",
   "execution_count": 52,
   "metadata": {
    "execution": {
     "iopub.execute_input": "2023-12-06T02:42:50.700525Z",
     "iopub.status.busy": "2023-12-06T02:42:50.697923Z",
     "iopub.status.idle": "2023-12-06T02:42:50.723097Z",
     "shell.execute_reply": "2023-12-06T02:42:50.722108Z",
     "shell.execute_reply.started": "2023-12-06T02:42:50.700487Z"
    }
   },
   "outputs": [
    {
     "data": {
      "text/html": [
       "<div>\n",
       "<style scoped>\n",
       "    .dataframe tbody tr th:only-of-type {\n",
       "        vertical-align: middle;\n",
       "    }\n",
       "\n",
       "    .dataframe tbody tr th {\n",
       "        vertical-align: top;\n",
       "    }\n",
       "\n",
       "    .dataframe thead th {\n",
       "        text-align: right;\n",
       "    }\n",
       "</style>\n",
       "<table border=\"1\" class=\"dataframe\">\n",
       "  <thead>\n",
       "    <tr style=\"text-align: right;\">\n",
       "      <th></th>\n",
       "      <th>label</th>\n",
       "      <th>pixel0</th>\n",
       "      <th>pixel1</th>\n",
       "      <th>pixel2</th>\n",
       "      <th>pixel3</th>\n",
       "      <th>pixel4</th>\n",
       "      <th>pixel5</th>\n",
       "      <th>pixel6</th>\n",
       "      <th>pixel7</th>\n",
       "      <th>pixel8</th>\n",
       "      <th>...</th>\n",
       "      <th>pixel774</th>\n",
       "      <th>pixel775</th>\n",
       "      <th>pixel776</th>\n",
       "      <th>pixel777</th>\n",
       "      <th>pixel778</th>\n",
       "      <th>pixel779</th>\n",
       "      <th>pixel780</th>\n",
       "      <th>pixel781</th>\n",
       "      <th>pixel782</th>\n",
       "      <th>pixel783</th>\n",
       "    </tr>\n",
       "  </thead>\n",
       "  <tbody>\n",
       "    <tr>\n",
       "      <th>0</th>\n",
       "      <td>1</td>\n",
       "      <td>0</td>\n",
       "      <td>0</td>\n",
       "      <td>0</td>\n",
       "      <td>0</td>\n",
       "      <td>0</td>\n",
       "      <td>0</td>\n",
       "      <td>0</td>\n",
       "      <td>0</td>\n",
       "      <td>0</td>\n",
       "      <td>...</td>\n",
       "      <td>0</td>\n",
       "      <td>0</td>\n",
       "      <td>0</td>\n",
       "      <td>0</td>\n",
       "      <td>0</td>\n",
       "      <td>0</td>\n",
       "      <td>0</td>\n",
       "      <td>0</td>\n",
       "      <td>0</td>\n",
       "      <td>0</td>\n",
       "    </tr>\n",
       "    <tr>\n",
       "      <th>1</th>\n",
       "      <td>0</td>\n",
       "      <td>0</td>\n",
       "      <td>0</td>\n",
       "      <td>0</td>\n",
       "      <td>0</td>\n",
       "      <td>0</td>\n",
       "      <td>0</td>\n",
       "      <td>0</td>\n",
       "      <td>0</td>\n",
       "      <td>0</td>\n",
       "      <td>...</td>\n",
       "      <td>0</td>\n",
       "      <td>0</td>\n",
       "      <td>0</td>\n",
       "      <td>0</td>\n",
       "      <td>0</td>\n",
       "      <td>0</td>\n",
       "      <td>0</td>\n",
       "      <td>0</td>\n",
       "      <td>0</td>\n",
       "      <td>0</td>\n",
       "    </tr>\n",
       "    <tr>\n",
       "      <th>2</th>\n",
       "      <td>1</td>\n",
       "      <td>0</td>\n",
       "      <td>0</td>\n",
       "      <td>0</td>\n",
       "      <td>0</td>\n",
       "      <td>0</td>\n",
       "      <td>0</td>\n",
       "      <td>0</td>\n",
       "      <td>0</td>\n",
       "      <td>0</td>\n",
       "      <td>...</td>\n",
       "      <td>0</td>\n",
       "      <td>0</td>\n",
       "      <td>0</td>\n",
       "      <td>0</td>\n",
       "      <td>0</td>\n",
       "      <td>0</td>\n",
       "      <td>0</td>\n",
       "      <td>0</td>\n",
       "      <td>0</td>\n",
       "      <td>0</td>\n",
       "    </tr>\n",
       "    <tr>\n",
       "      <th>3</th>\n",
       "      <td>4</td>\n",
       "      <td>0</td>\n",
       "      <td>0</td>\n",
       "      <td>0</td>\n",
       "      <td>0</td>\n",
       "      <td>0</td>\n",
       "      <td>0</td>\n",
       "      <td>0</td>\n",
       "      <td>0</td>\n",
       "      <td>0</td>\n",
       "      <td>...</td>\n",
       "      <td>0</td>\n",
       "      <td>0</td>\n",
       "      <td>0</td>\n",
       "      <td>0</td>\n",
       "      <td>0</td>\n",
       "      <td>0</td>\n",
       "      <td>0</td>\n",
       "      <td>0</td>\n",
       "      <td>0</td>\n",
       "      <td>0</td>\n",
       "    </tr>\n",
       "    <tr>\n",
       "      <th>4</th>\n",
       "      <td>0</td>\n",
       "      <td>0</td>\n",
       "      <td>0</td>\n",
       "      <td>0</td>\n",
       "      <td>0</td>\n",
       "      <td>0</td>\n",
       "      <td>0</td>\n",
       "      <td>0</td>\n",
       "      <td>0</td>\n",
       "      <td>0</td>\n",
       "      <td>...</td>\n",
       "      <td>0</td>\n",
       "      <td>0</td>\n",
       "      <td>0</td>\n",
       "      <td>0</td>\n",
       "      <td>0</td>\n",
       "      <td>0</td>\n",
       "      <td>0</td>\n",
       "      <td>0</td>\n",
       "      <td>0</td>\n",
       "      <td>0</td>\n",
       "    </tr>\n",
       "  </tbody>\n",
       "</table>\n",
       "<p>5 rows × 785 columns</p>\n",
       "</div>"
      ],
      "text/plain": [
       "   label  pixel0  pixel1  pixel2  pixel3  pixel4  pixel5  pixel6  pixel7  \\\n",
       "0      1       0       0       0       0       0       0       0       0   \n",
       "1      0       0       0       0       0       0       0       0       0   \n",
       "2      1       0       0       0       0       0       0       0       0   \n",
       "3      4       0       0       0       0       0       0       0       0   \n",
       "4      0       0       0       0       0       0       0       0       0   \n",
       "\n",
       "   pixel8  ...  pixel774  pixel775  pixel776  pixel777  pixel778  pixel779  \\\n",
       "0       0  ...         0         0         0         0         0         0   \n",
       "1       0  ...         0         0         0         0         0         0   \n",
       "2       0  ...         0         0         0         0         0         0   \n",
       "3       0  ...         0         0         0         0         0         0   \n",
       "4       0  ...         0         0         0         0         0         0   \n",
       "\n",
       "   pixel780  pixel781  pixel782  pixel783  \n",
       "0         0         0         0         0  \n",
       "1         0         0         0         0  \n",
       "2         0         0         0         0  \n",
       "3         0         0         0         0  \n",
       "4         0         0         0         0  \n",
       "\n",
       "[5 rows x 785 columns]"
      ]
     },
     "execution_count": 52,
     "metadata": {},
     "output_type": "execute_result"
    }
   ],
   "source": [
    "# examine train_df\n",
    "train_df.head()"
   ]
  },
  {
   "cell_type": "code",
   "execution_count": 53,
   "metadata": {
    "execution": {
     "iopub.execute_input": "2023-12-06T02:42:50.728485Z",
     "iopub.status.busy": "2023-12-06T02:42:50.728025Z",
     "iopub.status.idle": "2023-12-06T02:42:50.738814Z",
     "shell.execute_reply": "2023-12-06T02:42:50.737477Z",
     "shell.execute_reply.started": "2023-12-06T02:42:50.728451Z"
    }
   },
   "outputs": [],
   "source": [
    "# Define PyTorch Dataset  \n",
    "class MNIST_Data(Dataset):\n",
    "    def __init__(self, imgs, labels): \n",
    "        self.imgs =  torch.from_numpy(imgs)/ 255 # Normalization \n",
    "        self.labels =  torch.from_numpy(labels).type(torch.LongTensor) # convert to long\n",
    "        \n",
    "    def __len__(self): \n",
    "        return len(self.labels)\n",
    "    \n",
    "    def __getitem__(self, index): \n",
    "        return self.imgs[index] , self.labels[index]"
   ]
  },
  {
   "cell_type": "code",
   "execution_count": 54,
   "metadata": {
    "execution": {
     "iopub.execute_input": "2023-12-06T02:42:50.743614Z",
     "iopub.status.busy": "2023-12-06T02:42:50.742721Z",
     "iopub.status.idle": "2023-12-06T02:42:51.551989Z",
     "shell.execute_reply": "2023-12-06T02:42:51.550796Z",
     "shell.execute_reply.started": "2023-12-06T02:42:50.743565Z"
    }
   },
   "outputs": [],
   "source": [
    "imgs_train, imgs_test, labels_train, labels_test = train_test_split(train_df.loc[:,train_df.columns != \"label\"].values,\n",
    "                                                                             train_df['label'].values,\n",
    "                                                                             test_size = 0.2,\n",
    "                                                                             random_state = 42) "
   ]
  },
  {
   "cell_type": "code",
   "execution_count": 55,
   "metadata": {
    "execution": {
     "iopub.execute_input": "2023-12-06T02:42:51.553968Z",
     "iopub.status.busy": "2023-12-06T02:42:51.553608Z",
     "iopub.status.idle": "2023-12-06T02:42:51.709050Z",
     "shell.execute_reply": "2023-12-06T02:42:51.707896Z",
     "shell.execute_reply.started": "2023-12-06T02:42:51.553937Z"
    }
   },
   "outputs": [],
   "source": [
    "MNIST_train = MNIST_Data(imgs_train,  labels_train )\n",
    "MNIST_test = MNIST_Data(imgs_test,  labels_test )"
   ]
  },
  {
   "cell_type": "code",
   "execution_count": 56,
   "metadata": {
    "execution": {
     "iopub.execute_input": "2023-12-06T02:42:51.711498Z",
     "iopub.status.busy": "2023-12-06T02:42:51.710948Z",
     "iopub.status.idle": "2023-12-06T02:42:51.717487Z",
     "shell.execute_reply": "2023-12-06T02:42:51.716301Z",
     "shell.execute_reply.started": "2023-12-06T02:42:51.711466Z"
    }
   },
   "outputs": [],
   "source": [
    "loaders = { \n",
    "    'train': DataLoader(MNIST_train, batch_size = batch_size, shuffle = True) , \n",
    "    'test': DataLoader(MNIST_test, batch_size = batch_size, shuffle = True) ,\n",
    "}"
   ]
  },
  {
   "cell_type": "code",
   "execution_count": 57,
   "metadata": {
    "execution": {
     "iopub.execute_input": "2023-12-06T02:42:51.719259Z",
     "iopub.status.busy": "2023-12-06T02:42:51.718883Z",
     "iopub.status.idle": "2023-12-06T02:42:51.734595Z",
     "shell.execute_reply": "2023-12-06T02:42:51.732768Z",
     "shell.execute_reply.started": "2023-12-06T02:42:51.719205Z"
    }
   },
   "outputs": [
    {
     "data": {
      "text/plain": [
       "<torch.utils.data.dataloader.DataLoader at 0x7d9a709369e0>"
      ]
     },
     "execution_count": 57,
     "metadata": {},
     "output_type": "execute_result"
    }
   ],
   "source": [
    "loaders['train']"
   ]
  },
  {
   "cell_type": "code",
   "execution_count": 58,
   "metadata": {
    "execution": {
     "iopub.execute_input": "2023-12-06T02:42:51.737162Z",
     "iopub.status.busy": "2023-12-06T02:42:51.736539Z",
     "iopub.status.idle": "2023-12-06T02:42:51.749049Z",
     "shell.execute_reply": "2023-12-06T02:42:51.747936Z",
     "shell.execute_reply.started": "2023-12-06T02:42:51.737105Z"
    }
   },
   "outputs": [],
   "source": [
    "# Create Logistic Regression Model\n",
    "class LogisticRegressionModel(nn.Module):\n",
    "    def __init__(self, input_dim, output_dim):\n",
    "        super(LogisticRegressionModel, self).__init__()\n",
    "        # Linear part\n",
    "        self.linear = nn.Linear(input_dim, output_dim)\n",
    "        # There should be logistic function right?\n",
    "        # However logistic function in pytorch is in loss function\n",
    "        # So actually we do not forget to put it, it is only at next parts\n",
    "    \n",
    "    def forward(self, x):\n",
    "        out = self.linear(x)\n",
    "        return out\n",
    "\n",
    "# Instantiate Model Class\n",
    "input_dim = 28*28 # size of image px*px\n",
    "output_dim = 10  # labels 0,1,2,3,4,5,6,7,8,9\n",
    "\n",
    "# create logistic regression model\n",
    "model = LogisticRegressionModel(input_dim, output_dim)\n",
    "\n",
    "# Cross Entropy Loss  \n",
    "error = nn.CrossEntropyLoss()\n",
    "\n",
    "# SGD Optimizer \n",
    "learning_rate = 0.001\n",
    "optimizer = torch.optim.Adam(model.parameters(), lr=learning_rate)"
   ]
  },
  {
   "cell_type": "code",
   "execution_count": 59,
   "metadata": {
    "execution": {
     "iopub.execute_input": "2023-12-06T02:42:51.752232Z",
     "iopub.status.busy": "2023-12-06T02:42:51.750980Z",
     "iopub.status.idle": "2023-12-06T02:43:31.917703Z",
     "shell.execute_reply": "2023-12-06T02:43:31.916644Z",
     "shell.execute_reply.started": "2023-12-06T02:42:51.752186Z"
    }
   },
   "outputs": [
    {
     "name": "stdout",
     "output_type": "stream",
     "text": [
      "Iteration: 500  Loss: 0.3977135121822357  Accuracy: 89.25%\n",
      "Iteration: 1000  Loss: 0.4064241349697113  Accuracy: 90.75%\n",
      "Iteration: 1500  Loss: 0.3076643645763397  Accuracy: 91.41666412353516%\n",
      "Iteration: 2000  Loss: 0.2212640792131424  Accuracy: 91.73809814453125%\n",
      "Iteration: 2500  Loss: 0.2436545044183731  Accuracy: 91.77381134033203%\n",
      "Iteration: 3000  Loss: 0.37115997076034546  Accuracy: 91.79762268066406%\n",
      "Iteration: 3500  Loss: 0.20796141028404236  Accuracy: 92.14286041259766%\n",
      "Iteration: 4000  Loss: 0.2178848385810852  Accuracy: 91.97618865966797%\n",
      "Iteration: 4500  Loss: 0.23608998954296112  Accuracy: 92.22618865966797%\n",
      "Iteration: 5000  Loss: 0.2761010229587555  Accuracy: 92.21428680419922%\n",
      "Iteration: 5500  Loss: 0.2128516137599945  Accuracy: 92.13095092773438%\n",
      "Iteration: 6000  Loss: 0.286912202835083  Accuracy: 92.16666412353516%\n",
      "Iteration: 6500  Loss: 0.2878474295139313  Accuracy: 92.08333587646484%\n",
      "Iteration: 7000  Loss: 0.2928959131240845  Accuracy: 92.29762268066406%\n",
      "Iteration: 7500  Loss: 0.20189550518989563  Accuracy: 92.23809814453125%\n",
      "Iteration: 8000  Loss: 0.180277019739151  Accuracy: 92.32142639160156%\n",
      "Iteration: 8500  Loss: 0.30027496814727783  Accuracy: 92.0952377319336%\n",
      "Iteration: 9000  Loss: 0.2177564650774002  Accuracy: 92.4047622680664%\n",
      "Iteration: 9500  Loss: 0.18405155837535858  Accuracy: 92.23809814453125%\n",
      "Iteration: 10000  Loss: 0.28598594665527344  Accuracy: 92.26190185546875%\n"
     ]
    }
   ],
   "source": [
    "# Traning the Model\n",
    "count = 0\n",
    "loss_list = []\n",
    "iteration_list = []\n",
    "for epoch in range(num_epochs):\n",
    "    for i, (images, labels) in enumerate(loaders['train']):\n",
    "        \n",
    "        # Define variables\n",
    "        train = Variable(images.view(-1, 28*28))\n",
    "        labels = Variable(labels)\n",
    "        \n",
    "        # Clear gradients\n",
    "        optimizer.zero_grad()\n",
    "        \n",
    "        # Forward propagation\n",
    "        outputs = model(train)\n",
    "        \n",
    "        # Calculate softmax and cross entropy loss\n",
    "        loss = error(outputs, labels)\n",
    "        \n",
    "        # Calculate gradients\n",
    "        loss.backward()\n",
    "        \n",
    "        # Update parameters\n",
    "        optimizer.step()\n",
    "        \n",
    "        count += 1\n",
    "        \n",
    "       # Prediction\n",
    "        if count % 50 == 0:\n",
    "            # Calculate Accuracy         \n",
    "            correct = 0\n",
    "            total = 0\n",
    "            # Predict test dataset\n",
    "            for images, labels in loaders['test']: \n",
    "                test = Variable(images.view(-1, 28*28))\n",
    "                \n",
    "                # Forward propagation\n",
    "                outputs = model(test)\n",
    "                \n",
    "                # Get predictions from the maximum value\n",
    "                predicted = torch.max(outputs.data, 1)[1]\n",
    "                \n",
    "                # Total number of labels\n",
    "                total += len(labels)\n",
    "                \n",
    "                # Total correct predictions\n",
    "                correct += (predicted == labels).sum()\n",
    "            \n",
    "            accuracy = 100 * correct / float(total)\n",
    "            \n",
    "            # store loss and iteration\n",
    "            loss_list.append(loss.data)\n",
    "            iteration_list.append(count)\n",
    "        if count % 500 == 0:\n",
    "            # Print Loss\n",
    "            print('Iteration: {}  Loss: {}  Accuracy: {}%'.format(count, loss.data, accuracy))"
   ]
  },
  {
   "cell_type": "code",
   "execution_count": 60,
   "metadata": {
    "execution": {
     "iopub.execute_input": "2023-12-06T02:43:31.921385Z",
     "iopub.status.busy": "2023-12-06T02:43:31.920979Z",
     "iopub.status.idle": "2023-12-06T02:43:32.225520Z",
     "shell.execute_reply": "2023-12-06T02:43:32.224381Z",
     "shell.execute_reply.started": "2023-12-06T02:43:31.921352Z"
    }
   },
   "outputs": [
    {
     "data": {
      "image/png": "[encoded data removed]",
      "text/plain": [
       "<Figure size 640x480 with 1 Axes>"
      ]
     },
     "metadata": {},
     "output_type": "display_data"
    }
   ],
   "source": [
    "# visualization\n",
    "plt.plot(iteration_list,loss_list)\n",
    "plt.xlabel(\"Number of iteration\")\n",
    "plt.ylabel(\"Loss\")\n",
    "plt.title(\"Logistic Regression: Loss vs Number of iteration\")\n",
    "plt.show()"
   ]
  },
  {
   "cell_type": "code",
   "execution_count": 61,
   "metadata": {
    "execution": {
     "iopub.execute_input": "2023-12-06T02:43:32.227395Z",
     "iopub.status.busy": "2023-12-06T02:43:32.226987Z",
     "iopub.status.idle": "2023-12-06T02:43:32.244533Z",
     "shell.execute_reply": "2023-12-06T02:43:32.242875Z",
     "shell.execute_reply.started": "2023-12-06T02:43:32.227362Z"
    }
   },
   "outputs": [],
   "source": [
    "# Create CNN Model\n",
    "class CNNModel(nn.Module):\n",
    "    def __init__(self):\n",
    "        super(CNNModel, self).__init__()\n",
    "        \n",
    "        # Convolution 1\n",
    "        self.cnn1 = nn.Conv2d(in_channels=1, out_channels=16, kernel_size=5, stride=1, padding=0)\n",
    "        self.relu1 = nn.ReLU()\n",
    "        \n",
    "        # Max pool 1\n",
    "        self.maxpool1 = nn.MaxPool2d(kernel_size=2)\n",
    "     \n",
    "        # Convolution 2\n",
    "        self.cnn2 = nn.Conv2d(in_channels=16, out_channels=32, kernel_size=5, stride=1, padding=0)\n",
    "        self.relu2 = nn.ReLU()\n",
    "        \n",
    "        # Max pool 2\n",
    "        self.maxpool2 = nn.MaxPool2d(kernel_size=2)\n",
    "        \n",
    "        # Fully connected 1\n",
    "        self.fc1 = nn.Linear(32 * 4 * 4, 10) \n",
    "    \n",
    "    def forward(self, x):\n",
    "        # Convolution 1\n",
    "        out = self.cnn1(x)\n",
    "        out = self.relu1(out)\n",
    "        \n",
    "        # Max pool 1\n",
    "        out = self.maxpool1(out)\n",
    "        \n",
    "        # Convolution 2 \n",
    "        out = self.cnn2(out)\n",
    "        out = self.relu2(out)\n",
    "        \n",
    "        # Max pool 2 \n",
    "        out = self.maxpool2(out)\n",
    "        \n",
    "        # flatten\n",
    "        out = out.view(out.size(0), -1)\n",
    "\n",
    "        # Linear function (readout)\n",
    "        out = self.fc1(out)\n",
    "        \n",
    "        return out\n",
    "\n",
    "# batch_size, epoch and iteration\n",
    "batch_size = 100\n",
    "num_epochs = 30\n",
    "    \n",
    "# Create CNN\n",
    "model = CNNModel()\n",
    "\n",
    "# Cross Entropy Loss \n",
    "error = nn.CrossEntropyLoss()\n",
    "\n",
    "# SGD Optimizer\n",
    "learning_rate = 0.001\n",
    "optimizer = torch.optim.Adam(model.parameters(), lr=learning_rate)"
   ]
  },
  {
   "cell_type": "code",
   "execution_count": 62,
   "metadata": {
    "execution": {
     "iopub.execute_input": "2023-12-06T02:43:32.247315Z",
     "iopub.status.busy": "2023-12-06T02:43:32.246717Z",
     "iopub.status.idle": "2023-12-06T02:49:59.454318Z",
     "shell.execute_reply": "2023-12-06T02:49:59.452847Z",
     "shell.execute_reply.started": "2023-12-06T02:43:32.247277Z"
    }
   },
   "outputs": [
    {
     "name": "stdout",
     "output_type": "stream",
     "text": [
      "Iteration: 500  Loss: 0.11837050318717957  Accuracy: 96.77381134033203 %\n",
      "Iteration: 1000  Loss: 0.0766167938709259  Accuracy: 97.32142639160156 %\n",
      "Iteration: 1500  Loss: 0.026291199028491974  Accuracy: 98.30952453613281 %\n",
      "Iteration: 2000  Loss: 0.03881312906742096  Accuracy: 98.42857360839844 %\n",
      "Iteration: 2500  Loss: 0.031910184770822525  Accuracy: 98.38095092773438 %\n",
      "Iteration: 3000  Loss: 0.010356503538787365  Accuracy: 98.67857360839844 %\n",
      "Iteration: 3500  Loss: 0.008165407925844193  Accuracy: 98.60713958740234 %\n",
      "Iteration: 4000  Loss: 0.0023274451959878206  Accuracy: 98.66666412353516 %\n",
      "Iteration: 4500  Loss: 0.006095242686569691  Accuracy: 98.79762268066406 %\n",
      "Iteration: 5000  Loss: 0.03015216812491417  Accuracy: 98.72618865966797 %\n",
      "Iteration: 5500  Loss: 0.007432345300912857  Accuracy: 98.8452377319336 %\n",
      "Iteration: 6000  Loss: 0.016031520441174507  Accuracy: 98.88095092773438 %\n",
      "Iteration: 6500  Loss: 0.010560260154306889  Accuracy: 98.92857360839844 %\n",
      "Iteration: 7000  Loss: 0.010041049681603909  Accuracy: 98.77381134033203 %\n",
      "Iteration: 7500  Loss: 0.0015554678393527865  Accuracy: 98.82142639160156 %\n",
      "Iteration: 8000  Loss: 0.012629645876586437  Accuracy: 98.9047622680664 %\n",
      "Iteration: 8500  Loss: 0.0003518125449772924  Accuracy: 98.89286041259766 %\n",
      "Iteration: 9000  Loss: 0.00046496227150782943  Accuracy: 98.96428680419922 %\n",
      "Iteration: 9500  Loss: 0.006034455262124538  Accuracy: 98.79762268066406 %\n",
      "Iteration: 10000  Loss: 0.006143056787550449  Accuracy: 98.89286041259766 %\n"
     ]
    }
   ],
   "source": [
    "# CNN model training\n",
    "count = 0\n",
    "loss_list = []\n",
    "iteration_list = []\n",
    "accuracy_list = []\n",
    "for epoch in range(num_epochs):\n",
    "    for i, (images, labels) in enumerate(loaders['train']):\n",
    "        \n",
    "        train = Variable(images.view(100,1,28,28))\n",
    "        labels = Variable(labels)\n",
    "        \n",
    "        # Clear gradients\n",
    "        optimizer.zero_grad()\n",
    "        \n",
    "        # Forward propagation\n",
    "        outputs = model(train)\n",
    "        \n",
    "        # Calculate softmax and ross entropy loss\n",
    "        loss = error(outputs, labels)\n",
    "        \n",
    "        # Calculating gradients\n",
    "        loss.backward()\n",
    "        \n",
    "        # Update parameters\n",
    "        optimizer.step()\n",
    "        \n",
    "        count += 1\n",
    "        \n",
    "        if count % 50 == 0:\n",
    "            # Calculate Accuracy         \n",
    "            correct = 0\n",
    "            total = 0\n",
    "            # Iterate through test dataset\n",
    "            for images, labels in loaders['test']:\n",
    "                \n",
    "                test = Variable(images.view(100,1,28,28))\n",
    "                \n",
    "                # Forward propagation\n",
    "                outputs = model(test)\n",
    "                \n",
    "                # Get predictions from the maximum value\n",
    "                predicted = torch.max(outputs.data, 1)[1]\n",
    "                \n",
    "                # Total number of labels\n",
    "                total += len(labels)\n",
    "                \n",
    "                correct += (predicted == labels).sum()\n",
    "            \n",
    "            accuracy = 100 * correct / float(total)\n",
    "            \n",
    "            # store loss and iteration\n",
    "            loss_list.append(loss.data)\n",
    "            iteration_list.append(count)\n",
    "            accuracy_list.append(accuracy)\n",
    "        if count % 500 == 0:\n",
    "            # Print Loss\n",
    "            print('Iteration: {}  Loss: {}  Accuracy: {} %'.format(count, loss.data, accuracy))"
   ]
  },
  {
   "cell_type": "code",
   "execution_count": null,
   "metadata": {},
   "outputs": [],
   "source": []
  },
  {
   "cell_type": "code",
   "execution_count": null,
   "metadata": {},
   "outputs": [],
   "source": []
  }
 ],
 "metadata": {
  "kaggle": {
   "accelerator": "none",
   "dataSources": [
    {
     "databundleVersionId": 861823,
     "sourceId": 3004,
     "sourceType": "competition"
    }
   ],
   "dockerImageVersionId": 30587,
   "isGpuEnabled": false,
   "isInternetEnabled": false,
   "language": "python",
   "sourceType": "notebook"
  },
  "kernelspec": {
   "display_name": "Python 3 (ipykernel)",
   "language": "python",
   "name": "python3"
  },
  "language_info": {
   "codemirror_mode": {
    "name": "ipython",
    "version": 3
   },
   "file_extension": ".py",
   "mimetype": "text/x-python",
   "name": "python",
   "nbconvert_exporter": "python",
   "pygments_lexer": "ipython3",
   "version": "3.10.13"
  }
 },
 "nbformat": 4,
 "nbformat_minor": 4
}
