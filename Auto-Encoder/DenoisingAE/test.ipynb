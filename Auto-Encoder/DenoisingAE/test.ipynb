{
 "cells": [
  {
   "cell_type": "code",
   "execution_count": null,
   "metadata": {},
   "outputs": [],
   "source": [
    "import torch\n",
    "from torchvision import datasets, transforms\n",
    "import matplotlib.pyplot as plt\n",
    "\n",
    "class InPlaceModifiedMNIST(datasets.MNIST):\n",
    "    def __getitem__(self, index):\n",
    "        image, label = super().__getitem__(index)\n",
    "        height, width = image.shape[-2:]\n",
    "\n",
    "        # Convert the image to a tensor\n",
    "        image_tensor = image.clone()\n",
    "\n",
    "        # Modify the image tensor in-place\n",
    "        x = torch.randint(0, height - 5, size=(1,))\n",
    "        y = torch.randint(0, width - 5, size=(1,))\n",
    "        image_tensor[:, x:x+5, y:y+5] = torch.zeros((5,5))\n",
    "\n",
    "        # Convert the modified tensor back to a numpy array\n",
    "        modified_image = image_tensor\n",
    "\n",
    "        return modified_image, image\n",
    "\n",
    "# Define the transformation\n",
    "transform = transforms.Compose(\n",
    "    [\n",
    "        transforms.RandomRotation(10),\n",
    "        transforms.ToTensor(),\n",
    "        transforms.Normalize((0.1307,), (0.3081,)),\n",
    "    ]\n",
    ")\n",
    "\n",
    "# Create the modified dataset\n",
    "modified_dataset = InPlaceModifiedMNIST(\n",
    "    root=\"../data\", train=True, transform=transform, download=True\n",
    ")\n"
   ]
  },
  {
   "cell_type": "code",
   "execution_count": null,
   "metadata": {},
   "outputs": [],
   "source": [
    "for i in range(2):\n",
    "    blur, orig  = modified_dataset[i]\n",
    "    plt.imshow(torch.squeeze(blur), cmap='gray')\n",
    "    # plt.imshow(torch.squeeze(orig), cmap='gray')\n",
    "    plt.show()"
   ]
  },
  {
   "cell_type": "markdown",
   "metadata": {},
   "source": [
    "# Choose Blur Region by picking block within digit"
   ]
  },
  {
   "cell_type": "code",
   "execution_count": null,
   "metadata": {},
   "outputs": [],
   "source": [
    "import torch\n",
    "import torchvision \n",
    "import matplotlib.pyplot as plt\n",
    "\n",
    "mnist_data = torchvision.datasets.MNIST(\n",
    "    root=\"../data\", train=True, transform=transforms.ToTensor(), download=True\n",
    ")\n",
    "\n",
    "\n",
    "# torch.manual_seed(2023)\n",
    "\n",
    "image = next(iter(mnist_data))[0]\n",
    "\n",
    "loc  = torch.nonzero(torch.squeeze(image > 0 ) )\n",
    "rand = torch.randint(low = 0, high= len(loc), size=(1,))\n",
    "xloc, yloc = torch.squeeze(loc[rand, :])[0] , torch.squeeze(loc[rand, :])[1]\n",
    "\n",
    "sub_matrix_size = 5\n",
    "\n",
    "\n",
    "# Create the indices for the sub-matrix elements\n",
    "indices_x = torch.arange(sub_matrix_size).unsqueeze(1) + xloc\n",
    "indices_y = torch.arange(sub_matrix_size).unsqueeze(0) + yloc\n",
    "\n",
    "# Apply periodic boundary conditions\n",
    "indices_x %= image.shape[1]\n",
    "indices_y %= image.shape[2]\n",
    "\n",
    "# Modify the sub-matrix with 0.3 values\n",
    "mean = 0.\n",
    "std = 0.3\n",
    "image[:, indices_x, indices_y] += torch.randn((sub_matrix_size,sub_matrix_size)) * std + mean\n",
    "\n",
    "# normalize the image \n",
    "image  =  (image - torch.min(image) )/ (torch.max(image) - torch.min(image)) \n",
    "\n",
    "\n",
    "plt.imshow(torch.squeeze(image) ) \n",
    "\n",
    "\n"
   ]
  },
  {
   "cell_type": "code",
   "execution_count": 24,
   "metadata": {},
   "outputs": [
    {
     "data": {
      "image/png": "[encoded data removed]",
      "text/plain": [
       "<Figure size 640x480 with 2 Axes>"
      ]
     },
     "metadata": {},
     "output_type": "display_data"
    },
    {
     "data": {
      "image/png": "[encoded data removed]",
      "text/plain": [
       "<Figure size 640x480 with 2 Axes>"
      ]
     },
     "metadata": {},
     "output_type": "display_data"
    }
   ],
   "source": [
    "# Use Class method \n",
    "\n",
    "\n",
    "import torch\n",
    "from torchvision import datasets, transforms\n",
    "import matplotlib.pyplot as plt\n",
    "\n",
    "class InPlaceModifiedMNIST(datasets.MNIST):\n",
    "    def __getitem__(self, index):\n",
    "        image, label = super().__getitem__(index)\n",
    "        height, width = image.shape[-2:]\n",
    "\n",
    "        # Convert the image to a tensor for blur \n",
    "        blur= image.clone()\n",
    "\n",
    "        loc  = torch.nonzero(torch.squeeze(blur > 0 ) )\n",
    "        rand = torch.randint(low = 0, high= len(loc), size=(1,)) # draw random location of non-zero index\n",
    "        xloc, yloc = torch.squeeze(loc[rand, :])[0] , torch.squeeze(loc[rand, :])[1]\n",
    "\n",
    "\n",
    "        # Set size of blur region to 5 \n",
    "        sub_matrix_size = 10\n",
    "\n",
    "        # Create the indices for the sub-matrix elements\n",
    "        indices_x = torch.arange(sub_matrix_size).unsqueeze(1) + xloc\n",
    "        indices_y = torch.arange(sub_matrix_size).unsqueeze(0) + yloc\n",
    "\n",
    "        # Apply periodic boundary conditions\n",
    "        indices_x %= image.shape[1]\n",
    "        indices_y %= image.shape[2]\n",
    "\n",
    "        # Modify the sub-matrix with 0.3 values\n",
    "        mean = 0.2\n",
    "        std = 0.05\n",
    "        blur[:, indices_x, indices_y] += torch.randn((sub_matrix_size,sub_matrix_size)) * std + mean\n",
    "\n",
    "        # normalize the image \n",
    "        # blur  =  (blur- torch.min(blur) )/ (torch.max(blur) - torch.min(blur)) \n",
    "\n",
    "        # Convert the modified tensor back to a numpy array\n",
    "        modified_image = blur \n",
    "\n",
    "        return blur, image\n",
    "\n",
    "# Define the transformation\n",
    "transform = transforms.Compose(\n",
    "    [\n",
    "        transforms.RandomRotation(10),\n",
    "        transforms.ToTensor(), \n",
    "    ]\n",
    ")\n",
    "\n",
    "# Create the modified dataset\n",
    "modified_dataset = InPlaceModifiedMNIST(\n",
    "    root=\"../data\", train=True, transform=transform, download=True\n",
    ")\n",
    "\n",
    "\n",
    "for i in range(2):\n",
    "    blur, orig  = modified_dataset[i]\n",
    "    plt.subplot(1, 2, 1)\n",
    "    plt.imshow(torch.squeeze(blur), )\n",
    "    plt.subplot(1, 2, 2)\n",
    "    plt.imshow(torch.squeeze(orig),)\n",
    "    plt.show()\n",
    "\n"
   ]
  },
  {
   "cell_type": "code",
   "execution_count": null,
   "metadata": {},
   "outputs": [],
   "source": []
  },
  {
   "cell_type": "code",
   "execution_count": null,
   "metadata": {},
   "outputs": [],
   "source": []
  }
 ],
 "metadata": {
  "kernelspec": {
   "display_name": "base",
   "language": "python",
   "name": "python3"
  },
  "language_info": {
   "codemirror_mode": {
    "name": "ipython",
    "version": 3
   },
   "file_extension": ".py",
   "mimetype": "text/x-python",
   "name": "python",
   "nbconvert_exporter": "python",
   "pygments_lexer": "ipython3",
   "version": "3.10.13"
  }
 },
 "nbformat": 4,
 "nbformat_minor": 2
}
